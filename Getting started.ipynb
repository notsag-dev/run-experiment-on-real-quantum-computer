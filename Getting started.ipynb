{
 "cells": [
  {
   "cell_type": "markdown",
   "metadata": {},
   "source": [
    "# Testing the simplest circuit on a real quantum computer"
   ]
  },
  {
   "cell_type": "markdown",
   "metadata": {},
   "source": [
    "The objective of this experiment is to get to execute the simplest circuit ever on an IBM's real quantum computer for free in just a few minutes (isn't that pretty cool, amigo?). Please check [IBMQ](https://quantum-computing.ibm.com/) and [Qiskit](https://qiskit.org) for a bit of context if you haven't done so.\n",
    "\n",
    "First of all, we need to set up our IBM Q account. Please [register](https://qiskit.org/documentation/install.html#access-ibm-q-systems) and get your API token as shown in the link, paste it below and run:"
   ]
  },
  {
   "cell_type": "code",
   "execution_count": 1,
   "metadata": {},
   "outputs": [
    {
     "name": "stderr",
     "output_type": "stream",
     "text": [
      "Credentials already present. Set overwrite=True to overwrite.\n",
      "/usr/local/lib/python3.7/site-packages/qiskit/providers/models/backendconfiguration.py:337: UserWarning: `dt` and `dtm` now have units of seconds(s) rather than nanoseconds(ns).\n",
      "  warnings.warn('`dt` and `dtm` now have units of seconds(s) rather '\n"
     ]
    },
    {
     "data": {
      "text/plain": [
       "<AccountProvider for IBMQ(hub='ibm-q', group='open', project='main')>"
      ]
     },
     "execution_count": 1,
     "metadata": {},
     "output_type": "execute_result"
    }
   ],
   "source": [
    "from qiskit import IBMQ\n",
    "\n",
    "ibm_api_token = 'YOUR TOKEN HERE'\n",
    "IBMQ.save_account(ibm_api_token)\n",
    "IBMQ.load_account()"
   ]
  },
  {
   "cell_type": "markdown",
   "metadata": {},
   "source": [
    "We're now all set to start using real quantum computers! Let's list all the available backends we can use, including most likely several quantum computers and a simulator:"
   ]
  },
  {
   "cell_type": "code",
   "execution_count": 2,
   "metadata": {
    "scrolled": false
   },
   "outputs": [
    {
     "name": "stdout",
     "output_type": "stream",
     "text": [
      "List of backends:\n",
      "\n",
      "ibmq_qasm_simulator\n",
      "Simulator\n",
      "Queued jobs: 0\n",
      "\n",
      "ibmqx2\n",
      "Qubits:      5\n",
      "Queued jobs: 3\n",
      "\n",
      "ibmq_16_melbourne\n",
      "Qubits:      15\n",
      "Queued jobs: 20\n",
      "\n",
      "ibmq_vigo\n",
      "Qubits:      5\n",
      "Queued jobs: 17\n",
      "\n",
      "ibmq_ourense\n",
      "Qubits:      5\n",
      "Queued jobs: 13\n",
      "\n",
      "ibmq_london\n",
      "Qubits:      5\n",
      "Queued jobs: 1879\n",
      "\n",
      "ibmq_burlington\n",
      "Qubits:      5\n",
      "Queued jobs: 3\n",
      "\n",
      "ibmq_essex\n",
      "Qubits:      5\n",
      "Queued jobs: 4\n",
      "\n",
      "ibmq_armonk\n",
      "Qubits:      1\n",
      "Queued jobs: 1\n",
      "\n"
     ]
    }
   ],
   "source": [
    "provider = IBMQ.get_provider('ibm-q')\n",
    "\n",
    "print(\"List of backends:\\n\")\n",
    "for backend in provider.backends():\n",
    "    print(backend.name())\n",
    "    props = backend.properties()\n",
    "    if (props):\n",
    "        print(f\"Qubits:      {len(props.qubits)}\")\n",
    "    else:\n",
    "        print(f\"Simulator\")\n",
    "    print(f\"Queued jobs: {backend.status().pending_jobs}\\n\")"
   ]
  },
  {
   "cell_type": "markdown",
   "metadata": {},
   "source": [
    "From the backend list, select one and replace its name below to use it as your backend. I'm going to go with ibmq_armonk, it's hopefully the fastest option as it has just one queued job and its one qubit will be enough for this experiment."
   ]
  },
  {
   "cell_type": "code",
   "execution_count": 3,
   "metadata": {},
   "outputs": [],
   "source": [
    "backend_name = 'ibmq_armonk'"
   ]
  },
  {
   "cell_type": "markdown",
   "metadata": {},
   "source": [
    "Let's now create a very simple circuit with just one qubit, and visualize it:"
   ]
  },
  {
   "cell_type": "code",
   "execution_count": 4,
   "metadata": {},
   "outputs": [
    {
     "data": {
      "text/html": [
       "<pre style=\"word-wrap: normal;white-space: pre;background: #fff0;line-height: 1.1;font-family: &quot;Courier New&quot;,Courier,monospace\">        ┌─┐\n",
       "q_0: |0>┤M├\n",
       "        └╥┘\n",
       " c_0: 0 ═╩═\n",
       "           </pre>"
      ],
      "text/plain": [
       "<qiskit.visualization.text.TextDrawing at 0x124364ad0>"
      ]
     },
     "execution_count": 4,
     "metadata": {},
     "output_type": "execute_result"
    }
   ],
   "source": [
    "from qiskit import (QuantumCircuit,\n",
    "    execute,\n",
    "    Aer)\n",
    "from qiskit.visualization import plot_histogram\n",
    "\n",
    "n_qubits = 1\n",
    "n_outputs = 1\n",
    "circuit = QuantumCircuit(n_qubits, n_outputs)\n",
    "circuit.measure(0,0)\n",
    "circuit.draw()"
   ]
  },
  {
   "cell_type": "markdown",
   "metadata": {},
   "source": [
    "Note that the only thing we do is measuring the value of the qubit. This qubit when measured has a probability = 1 of having state = 0 (by default). Let's see what happens when executing 1000 shots on the selected backend:"
   ]
  },
  {
   "cell_type": "code",
   "execution_count": 5,
   "metadata": {},
   "outputs": [
    {
     "name": "stdout",
     "output_type": "stream",
     "text": [
      "Results: {'0': 963, '1': 37}\n"
     ]
    }
   ],
   "source": [
    "provider = IBMQ.get_provider(\"ibm-q\")\n",
    "backend = provider.get_backend(backend_name)\n",
    "job = execute(circuit, backend, shots=1000)\n",
    "job_result = job.result()\n",
    "\n",
    "print(\"Results:\", job_result.get_counts(circuit))"
   ]
  },
  {
   "cell_type": "markdown",
   "metadata": {},
   "source": [
    "Congratulations! If you reached this point you have already run your first circuit on a real quantum computer! Please note the noise of our results, while theoretically the qubit had a probability = 1 of having state = 0 when measured, we still observed 37 times state = 1."
   ]
  }
 ],
 "metadata": {
  "kernelspec": {
   "display_name": "Python 3",
   "language": "python",
   "name": "python3"
  },
  "language_info": {
   "codemirror_mode": {
    "name": "ipython",
    "version": 3
   },
   "file_extension": ".py",
   "mimetype": "text/x-python",
   "name": "python",
   "nbconvert_exporter": "python",
   "pygments_lexer": "ipython3",
   "version": "3.7.4"
  }
 },
 "nbformat": 4,
 "nbformat_minor": 2
}
